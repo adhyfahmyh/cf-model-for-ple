{
 "cells": [
  {
   "cell_type": "code",
   "execution_count": 90,
   "metadata": {},
   "outputs": [],
   "source": [
    "import numpy as np\n",
    "import pandas as pd \n",
    "from numpy import nan\n",
    "from sklearn.neighbors import NearestNeighbors\n",
    "from scipy.sparse import csr_matrix\n",
    "from sklearn.metrics.pairwise import pairwise_distances\n",
    "from sklearn.metrics import mean_absolute_error\n",
    "from correlation_pearson.code import CorrelationPearson\n",
    "pearson = CorrelationPearson()\n",
    "import operator"
   ]
  },
  {
   "cell_type": "code",
   "execution_count": 91,
   "metadata": {},
   "outputs": [],
   "source": [
    "raw = pd.read_csv('demo_sidang.csv', delimiter=';')\n",
    "# raw"
   ]
  },
  {
   "cell_type": "code",
   "execution_count": 93,
   "metadata": {
    "scrolled": true
   },
   "outputs": [],
   "source": [
    "# raw = raw[pd.notnull(raw['rating'])]\n",
    "# raw = raw[pd.notnull(raw['timespent'])]\n",
    "# raw\n",
    "where_are_NaNs = np.isnan(raw)\n",
    "raw[where_are_NaNs] = 0\n",
    "# raw\n",
    "pivot_raw = raw.pivot_table(index='user_id', columns='content_id', values='rating').fillna(0)\n",
    "# pivot_raw"
   ]
  },
  {
   "cell_type": "code",
   "execution_count": 94,
   "metadata": {},
   "outputs": [],
   "source": [
    "E = raw['rating']\n",
    "a = raw['bookmarked']\n",
    "t = raw['timespent']\n",
    "c = raw['total_selection']\n",
    "b = np.exp(-t)"
   ]
  },
  {
   "cell_type": "code",
   "execution_count": 95,
   "metadata": {},
   "outputs": [],
   "source": [
    "normalize = lambda x : ((x - np.min(x))/(np.max(x)-np.min(x)))\n",
    "A = normalize(a)\n",
    "B = normalize(b)\n",
    "C = normalize(c)"
   ]
  },
  {
   "cell_type": "code",
   "execution_count": 96,
   "metadata": {},
   "outputs": [],
   "source": [
    "e = E\n",
    "i = A + ((2)*(B)) + ((2)*(C)*(E))\n",
    "S = (1/2)*(e+i)\n",
    "# print(S)"
   ]
  },
  {
   "cell_type": "code",
   "execution_count": 97,
   "metadata": {},
   "outputs": [],
   "source": [
    "user_id = raw[['user_id']]\n",
    "content_id = raw[['content_id']]\n",
    "d = {\n",
    "    'A' : A, 'B' : B, 'C' : C,\n",
    "    'implicit' : i, 'explicit' : e, 'S' : S\n",
    "}\n",
    "data = pd.DataFrame(data = d)\n",
    "\n",
    "# data"
   ]
  },
  {
   "cell_type": "code",
   "execution_count": 98,
   "metadata": {},
   "outputs": [],
   "source": [
    "joinraw = raw.join(data)\n",
    "weight = joinraw[['user_id', 'content_id', 'S']]\n",
    "# weight"
   ]
  },
  {
   "cell_type": "code",
   "execution_count": 99,
   "metadata": {},
   "outputs": [],
   "source": [
    "llor = weight.pivot_table(index='user_id', columns='content_id', values='S').fillna(0)\n",
    "# llor"
   ]
  },
  {
   "cell_type": "code",
   "execution_count": 100,
   "metadata": {},
   "outputs": [],
   "source": [
    "llor_matrix = csr_matrix(llor.values)\n",
    "llor_array = llor.values"
   ]
  },
  {
   "cell_type": "code",
   "execution_count": 101,
   "metadata": {},
   "outputs": [],
   "source": [
    "dict_x={}\n",
    "for i in range(len(llor_array)):\n",
    "    dict_x[i]={}\n",
    "    for j in range(len(llor_array)):\n",
    "        if i==j:\n",
    "            continue\n",
    "        else:\n",
    "            dict_x[i][j]= pearson.result(llor_array[i],llor_array[j])\n",
    "    "
   ]
  },
  {
   "cell_type": "code",
   "execution_count": 153,
   "metadata": {},
   "outputs": [],
   "source": [
    "dict_x={}\n",
    "final_score=[]\n",
    "final_seq=[]\n",
    "k=200\n",
    "for i,value_i in enumerate(list(llor.index)):\n",
    "#     print(\"=========INI USER ID: \",value_i,\"=================\")\n",
    "    dict_x[i]={}\n",
    "    temp={}\n",
    "    for j,value_j in enumerate(list(llor.index)):\n",
    "        if i==j:\n",
    "            continue\n",
    "        else:\n",
    "            temp[j]= pearson.result(llor_array[i],llor_array[j])\n",
    "    tmp = {key: temp[key] if not np.isnan(temp[key]) else 0 for key in temp}\n",
    "#     dict_x[i] = dict(sorted(tmp.items(), key=operator.itemgetter(1),reverse=True)[:10])\n",
    "    tmp = dict(sorted(tmp.items(), key=operator.itemgetter(1),reverse=True)[:k])\n",
    "    pearsonDF = pd.DataFrame.from_dict(tmp, orient='index')\n",
    "    pearsonDF.columns = ['similarityIndex']\n",
    "    pearsonDF['user_id'] = pearsonDF.index\n",
    "    pearsonDF.index = range(len(pearsonDF))\n",
    "    mean_rating = [llor_array[y].mean() for y in list(pearsonDF['user_id'])]\n",
    "    pearsonDF['ave_rating'] = mean_rating\n",
    "#     print(pearsonDF)\n",
    "    topUsersRating=pearsonDF.merge(weight, left_on='user_id', right_on='user_id', how='inner')\n",
    "    topUsersRating['weight'] = topUsersRating['S'] - topUsersRating['ave_rating']\n",
    "    topUsersRating['weightedRating'] = topUsersRating['similarityIndex']*topUsersRating['weight']\n",
    "#     print(topUsersRating)\n",
    "    tempTopUsersRating = topUsersRating.groupby('content_id').sum()[['similarityIndex','weightedRating']]\n",
    "    tempTopUsersRating.columns = ['sum_similarityIndex','sum_weightedRating']\n",
    "#     print(tempTopUsersRating)\n",
    "    recommendation_df = pd.DataFrame()\n",
    "    recommendation_df['recommendation score'] = llor_array[i].mean()+(tempTopUsersRating['sum_weightedRating']/tempTopUsersRating['sum_similarityIndex'])\n",
    "    recommendation_df['content_id'] = tempTopUsersRating.index\n",
    "#     print(recommendation_df)\n",
    "    recommendation_df = recommendation_df.sort_values(by='recommendation score', ascending=False)\n",
    "    for index, row in recommendation_df.iterrows():\n",
    "        final_score.append([value_i,row['content_id'],row['recommendation score']])\n",
    "    final_seq.append([value_i,list(recommendation_df[\"content_id\"])])\n",
    "#     print(recommendation_df)"
   ]
  },
  {
   "cell_type": "code",
   "execution_count": 154,
   "metadata": {},
   "outputs": [],
   "source": [
    "final_score_df = pd.DataFrame(final_score,columns=[\"user_id\",\"content_id\",\"Recommendation Score\"])\n",
    "# final_score_df"
   ]
  },
  {
   "cell_type": "code",
   "execution_count": 155,
   "metadata": {},
   "outputs": [],
   "source": [
    "llop = final_score_df.pivot_table(index='user_id', columns='content_id', values='Recommendation Score').fillna(0)\n",
    "# llop"
   ]
  },
  {
   "cell_type": "code",
   "execution_count": 156,
   "metadata": {},
   "outputs": [],
   "source": [
    "final_seq_df = pd.DataFrame(final_seq,columns=[\"user_id\",\"Recommendation Sequence\"])\n",
    "# final_seq_df"
   ]
  },
  {
   "cell_type": "code",
   "execution_count": 157,
   "metadata": {},
   "outputs": [
    {
     "data": {
      "text/plain": [
       "5.619692989363384"
      ]
     },
     "execution_count": 157,
     "metadata": {},
     "output_type": "execute_result"
    }
   ],
   "source": [
    "y_true = pivot_raw.values\n",
    "y_pred = llop.values\n",
    "rating = np.reshape(y_true,(-1))\n",
    "prediction = np.reshape(y_pred,(-1))\n",
    "mean_absolute_error(rating, prediction)"
   ]
  },
  {
   "cell_type": "code",
   "execution_count": null,
   "metadata": {},
   "outputs": [],
   "source": []
  }
 ],
 "metadata": {
  "kernelspec": {
   "display_name": "Python 3",
   "language": "python",
   "name": "python3"
  },
  "language_info": {
   "codemirror_mode": {
    "name": "ipython",
    "version": 3
   },
   "file_extension": ".py",
   "mimetype": "text/x-python",
   "name": "python",
   "nbconvert_exporter": "python",
   "pygments_lexer": "ipython3",
   "version": "3.7.1"
  }
 },
 "nbformat": 4,
 "nbformat_minor": 2
}
